{
  "nbformat": 4,
  "nbformat_minor": 0,
  "metadata": {
    "colab": {
      "provenance": []
    },
    "kernelspec": {
      "name": "python3",
      "display_name": "Python 3"
    },
    "language_info": {
      "name": "python"
    }
  },
  "cells": [
    {
      "cell_type": "markdown",
      "source": [
        "An array is a fundamental data structure in programming that allows you to store a collection of elements of the same data type in a contiguous block of memory. Each element in an array is accessed using an index, which represents its position in the array."
      ],
      "metadata": {
        "id": "TCTPemB1Mo8T"
      }
    },
    {
      "cell_type": "markdown",
      "source": [
        "### Advantages of using arrays:\n",
        "\n",
        "\n",
        "\n",
        "* **Fast Access**: Accessing elements in an array is very fast since the position of each element is determined by its index. This makes arrays suitable for scenarios where you need quick access to elements.\n",
        "* **Memory Efficiency**: Arrays are memory-efficient as they store elements in a compact block of memory. This reduces memory overhead compared to other data structures.\n",
        "* **Predictable Memory Layout**: Elements in an array are stored sequentially, making it easier to predict memory locations and optimize cache usage for better performance.\n",
        "* **Easy to Implement**: Arrays are straightforward to implement and are supported in nearly all programming languages.\n",
        "\n",
        "* **Simplicity**: Arrays provide a simple and intuitive way to store and manage collections of elements."
      ],
      "metadata": {
        "id": "KB0DvyubM4Q-"
      }
    },
    {
      "cell_type": "markdown",
      "source": [
        "### Disadvantages of using arrays:\n",
        "\n",
        "* **Fixed Size**: In many programming languages, arrays have a fixed size once they are created. This means you need to know the maximum number of elements you'll store in advance.\n",
        "\n",
        "* **Insertion and Deletion**: Inserting or deleting elements in the middle of an array requires shifting elements, resulting in inefficiency. Dynamic resizing (e.g., resizing arrays) can also be computationally expensive.\n",
        "\n",
        "* **Wasted Memory**: If an array is allocated with more space than necessary, memory can be wasted.\n",
        "\n",
        "* **Lack of Flexibility**: Arrays might not be suitable for scenarios where you need to store elements of varying data types or where you frequently insert or delete elements.\n",
        "\n",
        "* **Search Complexity**: Searching for an element in an unsorted array requires linear time O(n) in the worst case. Sorted arrays can use binary search to achieve O(log n) complexity, but maintaining the sorted order after insertions and deletions can be challenging.\n",
        "\n",
        "* **Sparse Data**: Arrays are inefficient for storing sparse data (data with a lot of gaps or missing values)."
      ],
      "metadata": {
        "id": "MCPUpR5gNo50"
      }
    },
    {
      "cell_type": "code",
      "source": [
        "class CustomArray:\n",
        "    def __init__(self, data_type):\n",
        "        self.data_type = data_type\n",
        "        self.length = 0\n",
        "        self.data = []\n",
        "\n",
        "    def __str__(self):\n",
        "        return str(self.data)\n",
        "\n",
        "    def get(self, index):\n",
        "        return self.data[index]\n",
        "\n",
        "    def push(self, item):\n",
        "        if isinstance(item, self.data_type):\n",
        "            self.data.append(item)\n",
        "            self.length += 1\n",
        "        else:\n",
        "            print(f\"Invalid data type. Expected {self.data_type}, got {type(item)}.\")\n",
        "\n",
        "    def pop(self):\n",
        "        if self.length > 0:\n",
        "            last_item = self.data.pop()\n",
        "            self.length -= 1\n",
        "            return last_item\n",
        "        else:\n",
        "            print(\"Array is empty.\")\n",
        "\n",
        "    def delete(self, index):\n",
        "        if 0 <= index < self.length:\n",
        "            deleted_item = self.data.pop(index)\n",
        "            self.length -= 1\n",
        "            return deleted_item\n",
        "        else:\n",
        "            print(\"Index out of bounds.\")\n",
        "\n"
      ],
      "metadata": {
        "id": "qtBfV-StMx2Q"
      },
      "execution_count": null,
      "outputs": []
    },
    {
      "cell_type": "code",
      "source": [
        "# Creating an instance of the custom array\n",
        "my_array = CustomArray(int)\n",
        "\n",
        "# Pushing items into the array\n",
        "my_array.push(10)\n",
        "my_array.push(20)\n",
        "my_array.push(30)\n",
        "\n",
        "print(my_array.get(0))  # Output: 10\n",
        "\n",
        "my_array.pop()\n",
        "print(my_array.data)    # Output: {0: 10, 1: 20}\n",
        "\n",
        "my_array.delete(0)\n",
        "print(my_array.data)    # Output: {0: 20}\n"
      ],
      "metadata": {
        "colab": {
          "base_uri": "https://localhost:8080/"
        },
        "id": "bNi3ikq1QveK",
        "outputId": "c4fb501f-912e-4cc3-f0c2-8f30d671496b"
      },
      "execution_count": null,
      "outputs": [
        {
          "output_type": "stream",
          "name": "stdout",
          "text": [
            "10\n",
            "[10, 20]\n",
            "[20]\n"
          ]
        }
      ]
    },
    {
      "cell_type": "code",
      "source": [
        "class MultiDimensionalArray:\n",
        "    def __init__(self, rows, cols):\n",
        "        self.rows = rows\n",
        "        self.cols = cols\n",
        "        self.data = [[None] * cols for _ in range(rows)]\n",
        "\n",
        "    def __str__(self):\n",
        "        return '\\n'.join([' '.join(map(str, row)) for row in self.data])\n",
        "\n",
        "    def get(self, row, col):\n",
        "        return self.data[row][col]\n",
        "\n",
        "    def set(self, row, col, value):\n",
        "        self.data[row][col] = value"
      ],
      "metadata": {
        "id": "VXkNsg-3Q0SG"
      },
      "execution_count": null,
      "outputs": []
    },
    {
      "cell_type": "code",
      "source": [
        "array_2d = MultiDimensionalArray(3, 3)\n",
        "\n",
        "# Setting values in the array\n",
        "array_2d.set(0, 0, 1)\n",
        "array_2d.set(0, 1, 2)\n",
        "array_2d.set(0, 2, 3)\n",
        "array_2d.set(1, 0, 4)\n",
        "array_2d.set(1, 1, 5)\n",
        "array_2d.set(1, 2, 6)\n",
        "array_2d.set(2, 0, 7)\n",
        "array_2d.set(2, 1, 8)\n",
        "array_2d.set(2, 2, 9)\n",
        "\n",
        "print(array_2d)\n",
        "\n",
        "print(array_2d.get(1, 1))  # Output: 5"
      ],
      "metadata": {
        "colab": {
          "base_uri": "https://localhost:8080/"
        },
        "id": "DuFqcokkR4bR",
        "outputId": "cd9e03b0-a9f0-41eb-898d-a257601356ef"
      },
      "execution_count": null,
      "outputs": [
        {
          "output_type": "stream",
          "name": "stdout",
          "text": [
            "1 2 3\n",
            "4 5 6\n",
            "7 8 9\n",
            "5\n"
          ]
        }
      ]
    },
    {
      "cell_type": "code",
      "source": [
        "class MultiDimensionalArray:\n",
        "    def __init__(self, dimensions, values, data_type):\n",
        "        self.dimensions = dimensions\n",
        "        self.data_type = data_type\n",
        "        self.size = 1\n",
        "        for dim in dimensions:\n",
        "            self.size *= dim\n",
        "        if len(values) != self.size:\n",
        "            raise ValueError(\"Number of values does not match the array size.\")\n",
        "        self.values = values\n",
        "\n",
        "    def _calculate_offset(self, indices):\n",
        "        offset = 0\n",
        "        multiplier = 1\n",
        "        for i in range(len(indices) - 1, -1, -1):\n",
        "            offset += indices[i] * multiplier\n",
        "            multiplier *= self.dimensions[i]\n",
        "        return offset\n",
        "\n",
        "    def get(self, *indices):\n",
        "        offset = self._calculate_offset(indices)\n",
        "        return self.values[offset]\n",
        "\n",
        "    def set(self, value, *indices):\n",
        "        offset = self._calculate_offset(indices)\n",
        "        if isinstance(value, self.data_type):\n",
        "            self.values[offset] = value\n",
        "        else:\n",
        "            print(f\"Invalid data type. Expected {self.data_type}, got {type(value)}.\")\n",
        "\n",
        "# Creating a 3x4x2 multi-dimensional array of integers\n",
        "dimensions = (3, 4, 2)\n",
        "flat_values = list(range(3 * 4 * 2))\n",
        "array_md = MultiDimensionalArray(dimensions, flat_values, int)\n",
        "\n",
        "# Displaying the multi-dimensional array\n",
        "for i in range(dimensions[0]):\n",
        "    for j in range(dimensions[1]):\n",
        "        for k in range(dimensions[2]):\n",
        "            print(f\"Value at ({i}, {j}, {k}):\", array_md.get(i, j, k))\n"
      ],
      "metadata": {
        "id": "HbggNGF2SDal"
      },
      "execution_count": null,
      "outputs": []
    },
    {
      "cell_type": "code",
      "source": [
        "array_md.get(0, 0, 1)"
      ],
      "metadata": {
        "colab": {
          "base_uri": "https://localhost:8080/"
        },
        "id": "BRJSh2l8S3st",
        "outputId": "73dd96b7-7326-4956-a674-ad7d85149131"
      },
      "execution_count": null,
      "outputs": [
        {
          "output_type": "execute_result",
          "data": {
            "text/plain": [
              "1"
            ]
          },
          "metadata": {},
          "execution_count": 23
        }
      ]
    },
    {
      "cell_type": "code",
      "source": [],
      "metadata": {
        "id": "Mv4kZbwiW5Fh"
      },
      "execution_count": null,
      "outputs": []
    }
  ]
}